{
 "cells": [
  {
   "cell_type": "code",
   "execution_count": null,
   "id": "c9c9b19c",
   "metadata": {
    "ExecuteTime": {
     "end_time": "2024-02-14T08:02:23.496104Z",
     "start_time": "2024-02-14T08:02:23.488622Z"
    }
   },
   "outputs": [],
   "source": [
    "import pandas as pd \n",
    "import numpy as np\n",
    "import sklearn\n",
    "from sklearn import metrics,model_selection,linear_model\n",
    "import seaborn as sns \n",
    "import matplotlib.pyplot as plt\n",
    "from sklearn.ensemble import RandomForestClassifier,RandomForestRegressor"
   ]
  },
  {
   "cell_type": "code",
   "execution_count": null,
   "id": "4139f4cc",
   "metadata": {
    "ExecuteTime": {
     "end_time": "2024-02-14T08:02:24.168968Z",
     "start_time": "2024-02-14T08:02:24.140372Z"
    }
   },
   "outputs": [],
   "source": [
    "def transform(x):\n",
    "    if x=='Unknown':\n",
    "        return 'Utterance level'\n",
    "    else:\n",
    "        return x\n",
    "    \n",
    "def assign_tone(row):\n",
    "    if row['backchannels'] > 0 or row['code-switching for communicative purposes'] > 0 or row['collaborative finishes'] > 0:\n",
    "        return 'Informal'\n",
    "    elif row['subordinate clauses'] > 0 or row['impersonal subject + non-factive verb + NP'] > 0:\n",
    "        return 'Formal'\n",
    "    else:\n",
    "        return 'Neutral'  # Default to Neutral if none of the criteria match\n",
    "    \n",
    "    \n",
    "def get_new_labels(counts_df,new_column='P-V',old_column=['topic extension with the same content',\n",
    "                                                          'topic extension under the previous direction']):\n",
    "    cc_dd=counts_df[old_column].astype(int).values\n",
    "    cc_dd=['-'.join([str(j) for j in i]) for i in cc_dd]\n",
    "    counts_df[new_column]=cc_dd\n",
    "    return counts_df\n",
    "\n",
    "def get_result(test_y,test_pred):\n",
    "    acc=metrics.accuracy_score(test_y,test_pred)\n",
    "    pre=metrics.precision_score(test_y,test_pred,average='weighted')\n",
    "    rec=metrics.recall_score(test_y,test_pred,average='weighted')\n",
    "    f1s=metrics.f1_score(test_y,test_pred,average='weighted')\n",
    "    return [acc,pre,rec,f1s]\n",
    "\n",
    "def get_result_2(test_y,test_pred):\n",
    "    mae=metrics.mean_absolute_error(test_y,test_pred)\n",
    "    mse=metrics.mean_squared_error(test_y,test_pred)\n",
    "    mape=metrics.mean_absolute_percentage_error(test_y,test_pred)\n",
    "    r2=metrics.r2_score(test_y,test_pred)\n",
    "    return [mae,mse,mape,r2]"
   ]
  },
  {
   "cell_type": "markdown",
   "id": "05fa2d4b",
   "metadata": {},
   "source": [
    "# Task1"
   ]
  },
  {
   "cell_type": "code",
   "execution_count": null,
   "id": "4caff4de",
   "metadata": {
    "ExecuteTime": {
     "end_time": "2024-02-14T08:02:29.045740Z",
     "start_time": "2024-02-14T08:02:28.363780Z"
    }
   },
   "outputs": [],
   "source": [
    "#读取数据\n",
    "data_1=pd.read_csv('./annotations(1).csv')\n",
    "data_2=pd.read_csv('./annotations(2).csv')\n",
    "data_3=pd.read_csv('./annotations(3).csv')\n",
    "data_4=pd.read_csv('./annotations(4).csv')\n",
    "data_5=pd.read_csv('./annotations(5).csv')\n",
    "data=data_1.append(data_2).append(data_3).append(data_4).append(data_5)\n",
    "data['LabelLevel']=data['LabelLevel'].apply(transform)\n",
    "data.index=range(len(data))\n",
    "\n",
    "\n",
    "#统计频次\n",
    "counts_df=pd.DataFrame({})\n",
    "for i in range(0,len(data),10):\n",
    "    dd=data[i:i+10]\n",
    "    dd_count=pd.DataFrame(dd['Label'].value_counts()).T\n",
    "    dd_count.index=[i]\n",
    "    counts_df=pd.concat([counts_df,dd_count],axis=0)\n",
    "    \n",
    "#删除无效的数据\n",
    "del counts_df['conversation closing']\n",
    "del counts_df['conversation opening']\n",
    "\n",
    "#填充缺失值\n",
    "counts_df=counts_df.fillna(0)\n",
    "\n",
    "#生成标签\n",
    "counts_df['label']=counts_df.T.apply(assign_tone)\n",
    "\n",
    "#处理顺序\n",
    "columns_1=list(set(data[data['LabelLevel']!='Dialogue level']['Label']))\n",
    "columns_2=[i for i in counts_df.columns if i not in columns_1]\n",
    "counts_df=counts_df[columns_1+columns_2]\n",
    "\n",
    "#保存数据\n",
    "counts_df.to_csv('./feature_label.csv',encoding='utf_8_sig')\n",
    "\n",
    "#标签合并\n",
    "counts_df=get_new_labels(counts_df,new_column='P-V',old_column=['topic extension with the same content',\n",
    "                                                          'topic extension under the previous direction'])\n",
    "counts_df=get_new_labels(counts_df,new_column='Q-R',old_column=['overall tone choice: very formal',\n",
    "                                                          'overall tone choice: quite formal and some expressions are not that formal'])\n",
    "counts_df=get_new_labels(counts_df,new_column='U-Y',old_column=['overall tone choice: very informal',\n",
    "                                                          'overall tone choice: quite informal, but some expressions are still formal'])\n",
    "counts_df=get_new_labels(counts_df,new_column='S',old_column=['topic extension with clear new context'])\n",
    "counts_df=get_new_labels(counts_df,new_column='T',old_column=['overall tone choice: relatively not formal, most expressions are quite informal'])\n",
    "counts_df=get_new_labels(counts_df,new_column='W',old_column=['repeat and no topic extension'])\n",
    "counts_df=get_new_labels(counts_df,new_column='X',old_column=['no topic extension and stop the topic at this point'])\n",
    "counts_df['Z']=counts_df['label']\n",
    "# counts_df=get_new_labels(counts_df,new_column='Z',old_column=['label'])\n",
    "counts_df.to_csv('./creat_new_labels.csv',encoding='utf_8_sig')\n",
    "\n",
    "\n",
    "feature=counts_df[counts_df.columns[:14]]#特征\n",
    "labels=counts_df[counts_df.columns[-8:]]#标签\n",
    "\n",
    "#打乱顺序\n",
    "index_list=list(feature.index)\n",
    "np.random.shuffle(index_list)\n",
    "\n",
    "feature=feature.loc[index_list]\n",
    "labels=labels.loc[index_list]"
   ]
  },
  {
   "cell_type": "code",
   "execution_count": null,
   "id": "efe4a914",
   "metadata": {
    "ExecuteTime": {
     "end_time": "2024-02-14T08:02:52.297669Z",
     "start_time": "2024-02-14T08:02:30.552503Z"
    }
   },
   "outputs": [],
   "source": [
    "result_dict={}\n",
    "for label_name in labels.columns[:]:\n",
    "    label=labels[[label_name]]\n",
    "    labels_counts=label[label_name].value_counts()#标签计数\n",
    "    label_list=list(labels_counts.index)#标签列表\n",
    "    label=pd.DataFrame([label_list.index(i) for i in label[label_name]],columns=[label_name])#替换标签\n",
    "    labels_num=len(label_list)#类别数量\n",
    "    \n",
    "    train_x,test_x,train_y,test_y=model_selection.train_test_split(feature,label,train_size=0.8,shuffle=False)#数据集划分\n",
    "    \n",
    "    #训练模型\n",
    "    model=linear_model.LogisticRegression()\n",
    "    model.fit(train_x,train_y)\n",
    "    #预测结果\n",
    "    train_pred=model.predict(train_x)\n",
    "    test_pred=model.predict(test_x)\n",
    "    #评估模型\n",
    "    result_dict[label_name]=get_result(test_y,test_pred)\n",
    "\n",
    "    #训练集有的标签\n",
    "    train_label_list=list(set(train_y[label_name]))\n",
    "    train_label_list=sorted(train_label_list)\n",
    "    train_label_list=[label_list[i] for i in train_label_list]\n",
    "    \n",
    "    if len(train_label_list)<3:\n",
    "        train_label_list=['-'.join(train_label_list)]\n",
    "\n",
    "    #整理权重和偏置\n",
    "    coef_array=model.coef_#权重向量\n",
    "    intercept_array=model.intercept_#偏置\n",
    "    coef_intercept_array=np.concatenate([coef_array,intercept_array.reshape([-1,1])],1)#权重和偏置合并\n",
    "    coef_intercept_df=pd.DataFrame(coef_intercept_array,index=train_label_list,columns=list(train_x.columns)+['intercept']).T\n",
    "    coef_intercept_df.to_csv(f'./task-1-{label_name}-权重偏置.csv',encoding='utf_8_sig')\n",
    "    \n",
    "    #权重热力图\n",
    "    with sns.axes_style(\"white\"):\n",
    "        sns.heatmap(coef_intercept_df,vmax=coef_intercept_df.max().max(),\n",
    "                    vmin=coef_intercept_df.min().min(), annot=True,cmap=\"RdBu_r\")\n",
    "    plt.savefig(f'./task-1-{label_name}-权重热力图.png',dpi=400)\n",
    "    plt.show()\n",
    "    \n",
    "    #混淆矩阵热力图\n",
    "    cm=metrics.confusion_matrix(test_y,test_pred,labels=range(len(label_list)))\n",
    "    cm=pd.DataFrame(cm,index=label_list,columns=label_list)\n",
    "    cm.to_csv(f'./task-1-{label_name}-混淆矩阵.csv',encoding='utf_8_sig')\n",
    "    sns.heatmap(cm, annot=True,cmap=\"Blues\")\n",
    "    plt.xlabel('Predictive Label')\n",
    "    plt.ylabel('Real Label')\n",
    "    plt.savefig(f'./task-1-{label_name}-混淆矩阵热力图.png',dpi=400)\n",
    "    plt.show()\n",
    "    \n",
    "result_dict_df=pd.DataFrame(result_dict,index=['acc','pre','rec','f1s'])\n",
    "result_dict_df.to_csv('./Task-1-result_df.csv',encoding='utf_8_sig')"
   ]
  },
  {
   "cell_type": "markdown",
   "id": "2c0f647a",
   "metadata": {},
   "source": [
    "# Task2"
   ]
  },
  {
   "cell_type": "code",
   "execution_count": null,
   "id": "20e36150",
   "metadata": {
    "ExecuteTime": {
     "end_time": "2024-02-14T08:02:52.906571Z",
     "start_time": "2024-02-14T08:02:52.865262Z"
    }
   },
   "outputs": [],
   "source": [
    "counts_df=pd.read_csv('./feature_label.csv',encoding='utf_8_sig',index_col=0)\n",
    "feature=counts_df[counts_df.columns[:14]]\n",
    "labels=counts_df[counts_df.columns[14:-1]].astype(int).astype(str)\n",
    "\n",
    "#打乱顺序\n",
    "index_list=list(feature.index)\n",
    "np.random.shuffle(index_list)\n",
    "\n",
    "feature=feature.loc[index_list]\n",
    "labels=labels.loc[index_list]\n",
    "\n",
    "#得到两类标签\n",
    "topic_columns=[i for i in labels.columns if 'topic' in i]\n",
    "choice_columns=[i for i in labels.columns if 'choice' in i]"
   ]
  },
  {
   "cell_type": "code",
   "execution_count": null,
   "id": "b49042bb",
   "metadata": {
    "ExecuteTime": {
     "end_time": "2024-02-14T08:03:20.617147Z",
     "start_time": "2024-02-14T08:02:53.465447Z"
    }
   },
   "outputs": [],
   "source": [
    "result_dict={}\n",
    "predict_dict,true_dict={},{}\n",
    "for label_name in topic_columns+choice_columns:\n",
    "    label=labels[[label_name]]\n",
    "    labels_counts=label[label_name].value_counts()#标签计数\n",
    "    label_list=list(labels_counts.index)#标签列表\n",
    "    label=pd.DataFrame([label_list.index(i) for i in label[label_name]],columns=[label_name])#替换标签\n",
    "    labels_num=len(label_list)#类别数量\n",
    "    \n",
    "    train_x,test_x,train_y,test_y=model_selection.train_test_split(feature,label,train_size=0.8,shuffle=False)#数据集划分\n",
    "    \n",
    "    model=RandomForestClassifier()\n",
    "    model.fit(train_x,train_y)\n",
    "    #预测结果\n",
    "    train_pred=model.predict(train_x)\n",
    "    test_pred=model.predict(test_x)\n",
    "    #评估模型\n",
    "    result_dict[label_name]=get_result(test_y,test_pred)\n",
    "    \n",
    "    #训练集有的标签\n",
    "    train_label_list=list(set(train_y[label_name]))\n",
    "    train_label_list=sorted(train_label_list)\n",
    "    train_label_list=[label_list[i] for i in train_label_list]\n",
    "    \n",
    "    if len(train_label_list)<3:\n",
    "        train_label_list=['-'.join(train_label_list)]\n",
    "            \n",
    "    #特征权重\n",
    "    feature_importances_df=pd.DataFrame(model.feature_importances_,index=train_x.columns,columns=[label_name])\n",
    "    feature_importances_df=feature_importances_df.sort_values(by=feature_importances_df.columns[0],ascending=True)\n",
    "    feature_importances_df.to_csv(f'./tast-2-{label_name}-特征重要度.csv',encoding='utf_8_sig')\n",
    "    \n",
    "    plt.barh(feature_importances_df.index,feature_importances_df.values[:,0])\n",
    "    plt.xlabel('Feature Importances')\n",
    "    plt.ylabel('Feature')\n",
    "    plt.savefig(f'./tast-2-{label_name}-特征重要度条形图.png',dpi=400)\n",
    "    plt.show()\n",
    "    \n",
    "    #混淆矩阵热力图\n",
    "    cm=metrics.confusion_matrix(test_y,test_pred,labels=range(len(label_list)))\n",
    "    cm=pd.DataFrame(cm,index=label_list,columns=label_list)\n",
    "    cm.to_csv(f'./task-2-{label_name}-混淆矩阵.csv',encoding='utf_8_sig')\n",
    "    sns.heatmap(cm, annot=True,cmap=\"Blues\")\n",
    "    plt.xlabel('Predictive Label')\n",
    "    plt.ylabel('Real Label')\n",
    "    plt.savefig(f'./task-2-{label_name}-混淆矩阵热力图.png',dpi=400)\n",
    "    plt.show()\n",
    "    \n",
    "    #搜集预测结果\n",
    "    predict_dict[label_name]=test_pred\n",
    "    true_dict[label_name]=test_y.values[:,0]\n",
    "    \n",
    "#整理所有的预测结果\n",
    "predict_dict_df=pd.DataFrame(predict_dict,index=test_y.index)\n",
    "true_dict_df=pd.DataFrame(true_dict,index=test_y.index)\n",
    "predict_dict_df.to_csv('./task-2-预测结果.csv',encoding='utf_8_sig')\n",
    "true_dict_df.to_csv('./task-2-真实结果.csv',encoding='utf_8_sig')\n",
    "all_pred=predict_dict_df==true_dict_df#结果判断\n",
    "\n",
    "#计数判断\n",
    "topic_acc=(all_pred[topic_columns].sum(1)>2).sum()/len(all_pred)\n",
    "choice_acc=(all_pred[choice_columns].sum(1)>2).sum()/len(all_pred)\n",
    "print('topic_acc={},choice_acc={}'.format(topic_acc,choice_acc))\n",
    "\n",
    "result_dict_df=pd.DataFrame(result_dict,index=['acc','pre','rec','f1s'])\n",
    "result_dict_df.to_csv('./Task-2-result_df.csv',encoding='utf_8_sig')"
   ]
  },
  {
   "cell_type": "markdown",
   "id": "74489b82",
   "metadata": {},
   "source": [
    "# Task3"
   ]
  },
  {
   "cell_type": "code",
   "execution_count": null,
   "id": "a9b4ced6",
   "metadata": {
    "ExecuteTime": {
     "end_time": "2024-02-14T08:01:45.418452Z",
     "start_time": "2024-02-14T08:01:45.365180Z"
    }
   },
   "outputs": [],
   "source": [
    "counts_df=pd.read_csv('./feature_label.csv',encoding='utf_8_sig',index_col=0)\n",
    "feature=counts_df[counts_df.columns[:14]]\n",
    "labels=counts_df[counts_df.columns[14:-1]].astype(int).astype(str)\n",
    "\n",
    "#打乱顺序\n",
    "index_list=list(feature.index)\n",
    "np.random.shuffle(index_list)\n",
    "\n",
    "feature=feature.loc[index_list]\n",
    "labels=labels.loc[index_list]\n",
    "\n",
    "#得到两类标签\n",
    "topic_columns=[i for i in labels.columns if 'topic' in i]\n",
    "choice_columns=[i for i in labels.columns if 'choice' in i]\n",
    "\n",
    "score_df=labels.copy().astype(int)\n",
    "score_df['topic extension with the same content']=score_df['topic extension with the same content']*3\n",
    "score_df['topic extension with clear new context']=score_df['topic extension with clear new context']*5\n",
    "score_df['topic extension under the previous direction']=score_df['topic extension under the previous direction']*4\n",
    "score_df['repeat and no topic extension']=score_df['repeat and no topic extension']*2\n",
    "score_df['no topic extension and stop the topic at this point']=score_df['no topic extension and stop the topic at this point']*1\n",
    "\n",
    "score_df['overall tone choice: relatively not formal, most expressions are quite informal']=score_df['overall tone choice: relatively not formal, most expressions are quite informal']*3\n",
    "score_df['overall tone choice: very formal']=score_df['overall tone choice: very formal']*5\n",
    "score_df['overall tone choice: quite informal, but some expressions are still formal']=score_df['overall tone choice: quite informal, but some expressions are still formal']*4\n",
    "score_df['overall tone choice: quite formal and some expressions are not that formal']=score_df['overall tone choice: quite formal and some expressions are not that formal']*2\n",
    "score_df['overall tone choice: very informal']=score_df['overall tone choice: very informal']*1\n",
    "\n",
    "\n",
    "labels['topic_sum']=score_df[topic_columns].sum(1)\n",
    "labels['choice_sum']=score_df[choice_columns].sum(1)\n",
    "labels['all_sum']=labels['topic_sum']+labels['choice_sum']\n",
    "labels=labels[labels.columns[-3:]]\n",
    "\n",
    "labels=labels/labels.max()*5#缩放\n",
    "labels=round(labels,3)"
   ]
  },
  {
   "cell_type": "code",
   "execution_count": null,
   "id": "b2fd7a52",
   "metadata": {},
   "outputs": [],
   "source": [
    "result_dict={}\n",
    "predict_dict,true_dict={},{}\n",
    "for label_name in labels.columns:\n",
    "    label=labels[[label_name]]\n",
    "    train_x,test_x,train_y,test_y=model_selection.train_test_split(feature,label,train_size=0.8,shuffle=False)#数据集划分\n",
    "    \n",
    "    model=RandomForestRegressor()\n",
    "    model.fit(train_x,train_y)\n",
    "    #预测结果\n",
    "    train_pred=model.predict(train_x)\n",
    "    test_pred=model.predict(test_x)\n",
    "    #评估模型\n",
    "    result_dict[label_name]=get_result_2(test_y,test_pred)\n",
    "    \n",
    "    #特征权重\n",
    "    feature_importances_df=pd.DataFrame(model.feature_importances_,index=train_x.columns,columns=[label_name])\n",
    "    feature_importances_df=feature_importances_df.sort_values(by=feature_importances_df.columns[0],ascending=True)\n",
    "    feature_importances_df.to_csv(f'./tast-3-{label_name}-特征重要度.csv',encoding='utf_8_sig')\n",
    "    \n",
    "    plt.barh(feature_importances_df.index,feature_importances_df.values[:,0])\n",
    "    plt.xlabel('Feature Importances')\n",
    "    plt.ylabel('Feature')\n",
    "    plt.savefig(f'./tast-3-{label_name}-特征重要度条形图.png',dpi=400)\n",
    "    plt.show()\n",
    "    \n",
    "    #搜集预测结果\n",
    "    predict_dict[label_name]=test_pred\n",
    "    true_dict[label_name]=test_y.values[:,0]\n",
    "    \n",
    "#整理所有的预测结果\n",
    "predict_dict_df=pd.DataFrame(predict_dict,index=test_y.index)\n",
    "true_dict_df=pd.DataFrame(true_dict,index=test_y.index)\n",
    "predict_dict_df.to_csv('./task-3-预测结果.csv',encoding='utf_8_sig')\n",
    "true_dict_df.to_csv('./task-3-真实结果.csv',encoding='utf_8_sig')\n",
    "\n",
    "\n",
    "result_dict_df=pd.DataFrame(result_dict,index=['mae','mse','mape','r2'])\n",
    "result_dict_df.to_csv('./Task-3-result_df.csv',encoding='utf_8_sig')"
   ]
  },
  {
   "cell_type": "code",
   "execution_count": null,
   "id": "7c26c3ca",
   "metadata": {},
   "outputs": [],
   "source": []
  }
 ],
 "metadata": {
  "kernelspec": {
   "display_name": "Python 3 (ipykernel)",
   "language": "python",
   "name": "python3"
  },
  "language_info": {
   "codemirror_mode": {
    "name": "ipython",
    "version": 3
   },
   "file_extension": ".py",
   "mimetype": "text/x-python",
   "name": "python",
   "nbconvert_exporter": "python",
   "pygments_lexer": "ipython3",
   "version": "3.13.3"
  },
  "toc": {
   "base_numbering": 1,
   "nav_menu": {},
   "number_sections": true,
   "sideBar": true,
   "skip_h1_title": false,
   "title_cell": "Table of Contents",
   "title_sidebar": "Contents",
   "toc_cell": false,
   "toc_position": {},
   "toc_section_display": true,
   "toc_window_display": false
  },
  "varInspector": {
   "cols": {
    "lenName": 16,
    "lenType": 16,
    "lenVar": 40
   },
   "kernels_config": {
    "python": {
     "delete_cmd_postfix": "",
     "delete_cmd_prefix": "del ",
     "library": "var_list.py",
     "varRefreshCmd": "print(var_dic_list())"
    },
    "r": {
     "delete_cmd_postfix": ") ",
     "delete_cmd_prefix": "rm(",
     "library": "var_list.r",
     "varRefreshCmd": "cat(var_dic_list()) "
    }
   },
   "types_to_exclude": [
    "module",
    "function",
    "builtin_function_or_method",
    "instance",
    "_Feature"
   ],
   "window_display": false
  },
  "widgets": {
   "application/vnd.jupyter.widget-state+json": {
    "state": {},
    "version_major": 2,
    "version_minor": 0
   }
  }
 },
 "nbformat": 4,
 "nbformat_minor": 5
}
